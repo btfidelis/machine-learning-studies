{
 "cells": [
  {
   "cell_type": "code",
   "execution_count": 1,
   "metadata": {
    "collapsed": true
   },
   "outputs": [],
   "source": [
    "import nltk"
   ]
  },
  {
   "cell_type": "code",
   "execution_count": 8,
   "metadata": {
    "collapsed": false
   },
   "outputs": [
    {
     "name": "stdout",
     "output_type": "stream",
     "text": [
      "['Hoje é sexta feira.', 'Hoje é dia de maldade, dia de fazer DELETE sem WHERE']\n",
      "['Hoje', 'é', 'sexta', 'feira', '.', 'Hoje', 'é', 'dia', 'de', 'maldade', ',', 'dia', 'de', 'fazer', 'DELETE', 'sem', 'WHERE']\n"
     ]
    }
   ],
   "source": [
    "# tokenize - Separete by senteses or words\n",
    "\n",
    "example = 'Hoje é sexta feira. Hoje é dia de maldade, dia de fazer DELETE sem WHERE'\n",
    "\n",
    "print(nltk.tokenize.sent_tokenize(example, 'portuguese'))\n",
    "print(nltk.tokenize.word_tokenize(example, 'portuguese'))"
   ]
  },
  {
   "cell_type": "code",
   "execution_count": 16,
   "metadata": {
    "collapsed": false
   },
   "outputs": [
    {
     "name": "stdout",
     "output_type": "stream",
     "text": [
      "Hoje é sexta feira . Hoje é dia maldade , dia fazer DELETE WHERE\n"
     ]
    }
   ],
   "source": [
    "# Removing stop words\n",
    "# Words with no meaning for data analizes \n",
    "stopwords = set(nltk.corpus.stopwords.words('portuguese'))\n",
    "words = nltk.tokenize.word_tokenize(example, 'portuguese')\n",
    "\n",
    "filtered_sentense = [w for w in words\n",
    "                        if w not in stopwords]\n"
   ]
  },
  {
   "cell_type": "code",
   "execution_count": 18,
   "metadata": {
    "collapsed": false
   },
   "outputs": [
    {
     "name": "stdout",
     "output_type": "stream",
     "text": [
      "['malandr', 'malandr', 'malandr']\n"
     ]
    }
   ],
   "source": [
    "# stemming\n",
    "# Normalize variation of words\n",
    "words_of_same_meaning = ['malandro', 'malandragem', 'malandramente']\n",
    "stemmer = nltk.stem.RSLPStemmer()\n",
    "\n",
    "stemmed_words = [stemmer.stem(w) for w in words_of_same_meaning]\n",
    "print(stemmed_words)"
   ]
  },
  {
   "cell_type": "code",
   "execution_count": null,
   "metadata": {
    "collapsed": true
   },
   "outputs": [],
   "source": [
    "\n",
    "\n"
   ]
  }
 ],
 "metadata": {
  "kernelspec": {
   "display_name": "Python 3",
   "language": "python",
   "name": "python3"
  },
  "language_info": {
   "codemirror_mode": {
    "name": "ipython",
    "version": 3
   },
   "file_extension": ".py",
   "mimetype": "text/x-python",
   "name": "python",
   "nbconvert_exporter": "python",
   "pygments_lexer": "ipython3",
   "version": "3.6.0"
  }
 },
 "nbformat": 4,
 "nbformat_minor": 2
}
